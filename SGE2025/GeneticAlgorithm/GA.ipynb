{
 "cells": [
  {
   "cell_type": "markdown",
   "id": "96c4a56b",
   "metadata": {},
   "source": [
    "# Genetic algorithm"
   ]
  },
  {
   "cell_type": "markdown",
   "id": "088e297d",
   "metadata": {},
   "source": [
    "## 1) Geometry & solver"
   ]
  },
  {
   "cell_type": "code",
   "execution_count": 1,
   "id": "d55f41a7-335d-4d89-be5e-98142ce17572",
   "metadata": {},
   "outputs": [
    {
     "data": {
      "application/vnd.jupyter.widget-view+json": {
       "model_id": "06c5e7af24be4df08b5244de9ee3f421",
       "version_major": 2,
       "version_minor": 0
      },
      "text/plain": [
       "WebGuiWidget(layout=Layout(height='500px', width='100%'), value={'gui_settings': {}, 'ngsolve_version': '6.2.2…"
      ]
     },
     "metadata": {},
     "output_type": "display_data"
    },
    {
     "data": {
      "application/vnd.jupyter.widget-view+json": {
       "model_id": "d3eab109a5574b8983860aaa40f8ea0c",
       "version_major": 2,
       "version_minor": 0
      },
      "text/plain": [
       "WebGuiWidget(layout=Layout(height='500px', width='100%'), value={'gui_settings': {}, 'ngsolve_version': '6.2.2…"
      ]
     },
     "metadata": {},
     "output_type": "display_data"
    },
    {
     "data": {
      "application/vnd.jupyter.widget-view+json": {
       "model_id": "2ed2d7b3779d46eb98ab77baff102c57",
       "version_major": 2,
       "version_minor": 0
      },
      "text/plain": [
       "WebGuiWidget(layout=Layout(height='500px', width='100%'), value={'gui_settings': {}, 'ngsolve_version': '6.2.2…"
      ]
     },
     "metadata": {},
     "output_type": "display_data"
    },
    {
     "name": "stdout",
     "output_type": "stream",
     "text": [
      "Warning: domains ['D'] initialized as air\n"
     ]
    },
    {
     "data": {
      "application/vnd.jupyter.widget-view+json": {
       "model_id": "27cbc6c04ff447fdb9d24083e20b7ce2",
       "version_major": 2,
       "version_minor": 0
      },
      "text/plain": [
       "WebGuiWidget(layout=Layout(height='500px', width='100%'), value={'gui_settings': {}, 'ngsolve_version': '6.2.2…"
      ]
     },
     "metadata": {},
     "output_type": "display_data"
    },
    {
     "data": {
      "application/vnd.jupyter.widget-view+json": {
       "model_id": "cd2d8c64f922467a8c821226cee020df",
       "version_major": 2,
       "version_minor": 0
      },
      "text/plain": [
       "WebGuiWidget(layout=Layout(height='500px', width='100%'), value={'gui_settings': {}, 'ngsolve_version': '6.2.2…"
      ]
     },
     "metadata": {},
     "output_type": "display_data"
    },
    {
     "data": {
      "application/vnd.jupyter.widget-view+json": {
       "model_id": "bb87cc0098224548a9ec76a3ae78edd4",
       "version_major": 2,
       "version_minor": 0
      },
      "text/plain": [
       "WebGuiWidget(layout=Layout(height='500px', width='100%'), value={'gui_settings': {}, 'ngsolve_version': '6.2.2…"
      ]
     },
     "metadata": {},
     "output_type": "display_data"
    },
    {
     "name": "stdout",
     "output_type": "stream",
     "text": [
      "-1.3818263659830011e-08\n"
     ]
    }
   ],
   "source": [
    "%reload_ext autoreload\n",
    "%autoreload 2\n",
    "\n",
    "import matplotlib.pyplot as plt\n",
    "import numpy as np\n",
    "import sys, os\n",
    "from ngsolve import *\n",
    "from netgen.geom2d import SplineGeometry\n",
    "from solverlibBESO import *\n",
    "from commons.geometry import transformerCG\n",
    "from commons.objective import fObjectif,dufObjectif\n",
    "from ngsolve.webgui import Draw\n",
    "\n",
    "np.random.seed(0) # fix the seed to ensure reproducibility\n",
    "\n",
    "def Volume(mesh,binaryVariable):\n",
    "    return Integrate(binaryVariable*dx,mesh)\n",
    "\n",
    "def TotalVolume(mesh):\n",
    "    return Integrate(CoefficientFunction(1)*dx(definedon=~mesh.Materials(\"P1|P2|S1|S2\")),mesh)\n",
    "\n",
    "def cfFromVec(vec,shape=(7,5)):\n",
    "    return {f\"D_{i}_{j}\":vec[i+j*shape[0]] for i in range(2*shape[0]+1) for j in range(2*shape[1]+1)}\n",
    "\n",
    "vec = np.random.randint(0,2,15*11)\n",
    "\n",
    "# Material properties\n",
    "mu0 = 4e-7 * np.pi\n",
    "mur = 1000\n",
    "nuiron = 1/(mu0*mur)\n",
    "J = 1e6\n",
    "# Meshing\n",
    "mesh = transformerCG(NCoils = 2,hmax = 1e-1)\n",
    "VolTot = TotalVolume(mesh)\n",
    "eVol = Integrate(CoefficientFunction(1),mesh,element_wise=True).NumPy()[:]\n",
    "var0Dict = {\"D\" : 0, \"P1\" : 0, \"P2\":0, \"S1\":0 ,\"S2\":0}|cfFromVec(np.random.randint(0,2,15*11))\n",
    "binaryVar0 = GridFunction(L2(mesh)) ; binaryVar0.Set(CoefficientFunction([var0Dict[mat] for mat in mesh.GetMaterials()]))\n",
    "Draw(mesh)\n",
    "Draw(binaryVar0,mesh,\"Initial Design\")\n",
    "displayDict = {\"D\" : 1, \"P1\" : 0, \"P2\":0, \"S1\":0 ,\"S2\":0}|cfFromVec(np.zeros(15*11))\n",
    "displayCF = CoefficientFunction([displayDict[mat] for mat in mesh.GetMaterials()])\n",
    "Draw(binaryVar0*displayCF,mesh,\"Initial distribution\")\n",
    "FESolver = MagStat2D(mesh,dirichlet=\"out\")\n",
    "FESolver.set_ironBH(lambda b: nuiron)\n",
    "FESolver.add_domain_tag([],[f\"D_{i}_{j}\" for i in range(15) for j in range(11)],['P1','P2','S1','S2'])\n",
    "sourceDict = {\"D\" : 0, \"P1\" : J, \"P2\":-J, \"S1\":0 ,\"S2\":0}|cfFromVec(np.zeros(15*11))\n",
    "jd = CoefficientFunction([sourceDict[mat] for mat in mesh.GetMaterials()])\n",
    "FESolver.set_source(lambda v: jd*v)\n",
    "FESolver.SolveState(binaryVar0)\n",
    "FESolver.SolveAdjoint(binaryVar0,lambda *args : -1*dufObjectif(*args))\n",
    "FESolver.show()\n",
    "print(fObjectif(mesh,FESolver.gfu))\n",
    "\n",
    "   "
   ]
  },
  {
   "cell_type": "markdown",
   "id": "7e3029ce",
   "metadata": {},
   "source": [
    "## 2) Setup the GA class"
   ]
  },
  {
   "cell_type": "code",
   "execution_count": null,
   "id": "43d85b24-86ac-4dd0-9a2d-2f89a0c9a461",
   "metadata": {},
   "outputs": [],
   "source": [
    "from tqdm import tqdm\n",
    "volFracTarget = 0.1\n",
    "class GA:\n",
    "    def __init__(self,popSize):\n",
    "        self.pMutate = 0.01\n",
    "        self.pReproduceConst = 0.5\n",
    "        self.pReproduceObj = 0.1\n",
    "        self.templateIndiv = GridFunction(L2(mesh))\n",
    "        self.templateIndiv.Set(0)\n",
    "        self.popSize = popSize\n",
    "        self.population = np.float64(np.random.random((popSize,(15*11)))<0.5)\n",
    "        self.objectivePop = np.zeros((self.popSize,))\n",
    "        self.constraintPop = np.zeros((self.popSize,))\n",
    "        self.scene = None\n",
    "        self.bestObj = []\n",
    "        self.bestConst = []\n",
    "        self.bestIndividual = []\n",
    "                        \n",
    "\n",
    "    def evaluate(self):\n",
    "        for indiv in range(self.popSize):\n",
    "            var0Dict = {\"D\" : 0, \"P1\" : 0, \"P2\":0, \"S1\":0 ,\"S2\":0}|cfFromVec(self.population[indiv,:])\n",
    "            self.templateIndiv.Set(CoefficientFunction([var0Dict[mat] for mat in mesh.GetMaterials()])) \n",
    "            FESolver.SolveState(self.templateIndiv)\n",
    "            self.objectivePop[indiv] = fObjectif(mesh,FESolver.gfu)\n",
    "            self.constraintPop[indiv] = Volume(mesh,self.templateIndiv)\n",
    "\n",
    "    def draw(self,indiv):\n",
    "        if self.scene is None:\n",
    "            self.drawIndiv = GridFunction(L2(mesh))\n",
    "            var0Dict = {\"D\" : 0, \"P1\" : 0, \"P2\":0, \"S1\":0 ,\"S2\":0}|cfFromVec(indiv)\n",
    "            self.drawIndiv.Set(CoefficientFunction([var0Dict[mat] for mat in mesh.GetMaterials()])) \n",
    "            self.scene = Draw(self.drawIndiv,mesh)\n",
    "        else:\n",
    "            var0Dict = {\"D\" : 0, \"P1\" : 0, \"P2\":0, \"S1\":0 ,\"S2\":0}|cfFromVec(indiv)\n",
    "            self.drawIndiv.Set(CoefficientFunction([var0Dict[mat] for mat in mesh.GetMaterials()]))\n",
    "            self.scene.Redraw()\n",
    "    \n",
    "    def createNewGeneration(self,id,drawBest=True,volFracTarget=0.1):\n",
    "        self.evaluate()\n",
    "        #toKeepConst = np.where(self.constraintPop<volFracTarget*VolTot)[0]\n",
    "        #sortedConst = np.argsort(self.constraintPop)\n",
    "        #sortedConst = sortedConst[~np.in1d(sortedConst,toKeepConst)]\n",
    "        #constPop = np.concatenate((toKeepConst,sortedConst[:int(self.popSize*self.pReproduceConst)-len(toKeepConst)]))\n",
    "        #sortedObj = constPop[np.argsort(self.objectivePop[constPop])[:int(len(constPop)* self.pReproduceObj )]]\n",
    "        Lag = self.objectivePop +  (self.constraintPop>volFracTarget*VolTot)*np.exp(self.constraintPop-volFracTarget*VolTot)\n",
    "        sortedObj = np.argsort(Lag)\n",
    "        if drawBest: \n",
    "            self.draw(self.population[sortedObj[0]])\n",
    "            print(f'it={id} | Lag= {Lag[sortedObj[0]]} | obj={self.objectivePop[sortedObj[0]]} | const={self.constraintPop[sortedObj[0]]/VolTot}',end = '\\r')\n",
    "        \n",
    "        self.bestObj.append(self.objectivePop[sortedObj[0]])\n",
    "        self.bestConst.append(self.constraintPop[sortedObj[0]]/VolTot)\n",
    "        self.bestIndividual.append(self.population[sortedObj[0]])\n",
    "\n",
    "        newPop = np.zeros_like(self.population)\n",
    "        newPop[np.ones(2,dtype=int)] = self.population[sortedObj][0]\n",
    "        newPop[np.arange(len(sortedObj)-2)+2] = self.population[sortedObj[np.arange(len(sortedObj)-2)+1]]\n",
    "        for newIndiv in range(1,2):\n",
    "            if np.random.random()<self.pMutate:\n",
    "                geneticDrift = np.random.randint(0,len(newPop[newIndiv]-1))\n",
    "                newPop[newIndiv,geneticDrift] =  1- newPop[0,geneticDrift]\n",
    "        for newIndiv in range(10,self.popSize):\n",
    "            prob = 1/np.sqrt(np.arange(1,len(sortedObj)+1))\n",
    "            prob /= np.linalg.norm(prob,1)\n",
    "            parentA,parentB = self.population[np.random.choice(sortedObj,p=prob)],self.population[np.random.choice(sortedObj,p=prob)]\n",
    "            geneticMean = np.random.randint(0,2,(len(parentA))) == 1\n",
    "            geneticDrift = np.random.random((len(parentA)))<self.pMutate\n",
    "            newPop[newIndiv] = parentA*geneticMean + (~geneticMean)*parentB\n",
    "            newPop[newIndiv,geneticDrift] =  1- newPop[newIndiv,geneticDrift]\n",
    "        self.population = newPop\n",
    "\n",
    "population = 11*15*5\n",
    "test = GA(population)"
   ]
  },
  {
   "cell_type": "markdown",
   "id": "3a9aea4d",
   "metadata": {},
   "source": [
    "## 3) Optimization"
   ]
  },
  {
   "cell_type": "code",
   "execution_count": null,
   "id": "2edb440b-c8f7-40e5-a2e9-0e8a29bdf0fa",
   "metadata": {},
   "outputs": [
    {
     "data": {
      "application/vnd.jupyter.widget-view+json": {
       "model_id": "d7891d2386f948f9a9cf4d8b04aff92b",
       "version_major": 2,
       "version_minor": 0
      },
      "text/plain": [
       "WebGuiWidget(layout=Layout(height='500px', width='100%'), value={'gui_settings': {}, 'ngsolve_version': '6.2.2…"
      ]
     },
     "metadata": {},
     "output_type": "display_data"
    },
    {
     "name": "stdout",
     "output_type": "stream",
     "text": [
      "it=199 | Lag= -1.5166122542291308e-05 | obj=-1.5166122542291308e-05 | const=0.09542410714285766\r"
     ]
    }
   ],
   "source": [
    "test.scene = None\n",
    "test.pMutate  = 0.2\n",
    "Ngeneration = 500\n",
    "for i in range(Ngeneration):\n",
    "    volFracTarget = 0.1#0.5+(0.1-0.5)*min(100,i)/100\n",
    "    test.createNewGeneration(i,True,volFracTarget)"
   ]
  },
  {
   "cell_type": "markdown",
   "id": "e3d8c793",
   "metadata": {},
   "source": [
    "## 4) Analysis of the results\n",
    "\n",
    "### a) Quantities of interest"
   ]
  },
  {
   "cell_type": "code",
   "execution_count": 31,
   "id": "408ea7af",
   "metadata": {},
   "outputs": [
    {
     "name": "stdout",
     "output_type": "stream",
     "text": [
      "Results GA : flux =  1.593882e-05 | vol =  9.654 % |  nEval = 412500 \n"
     ]
    }
   ],
   "source": [
    "bestGeometry = GridFunction(L2(mesh))\n",
    "var0Dict = {\"D\" : 0, \"P1\" : 0, \"P2\":0, \"S1\":0 ,\"S2\":0}|cfFromVec(test.bestIndividual[-1])\n",
    "bestGeometry.Set(CoefficientFunction([var0Dict[mat] for mat in mesh.GetMaterials()])) \n",
    "print(f\"Results GA : flux =  {- test.bestObj[-1]:.6e} | vol =  {100 * Volume(mesh, bestGeometry) / VolTot:.3f} % |  nEval = {population * Ngeneration} \")"
   ]
  },
  {
   "cell_type": "code",
   "execution_count": 32,
   "id": "c32f9f7b",
   "metadata": {},
   "outputs": [
    {
     "data": {
      "application/vnd.jupyter.widget-view+json": {
       "model_id": "3e80d3dd65104ae2907d3eb0495f1999",
       "version_major": 2,
       "version_minor": 0
      },
      "text/plain": [
       "WebGuiWidget(layout=Layout(height='500px', width='100%'), value={'gui_settings': {}, 'ngsolve_version': '6.2.2…"
      ]
     },
     "metadata": {},
     "output_type": "display_data"
    },
    {
     "data": {
      "text/plain": [
       "BaseWebGuiScene"
      ]
     },
     "execution_count": 32,
     "metadata": {},
     "output_type": "execute_result"
    }
   ],
   "source": [
    "# Plot\n",
    "Draw(bestGeometry)"
   ]
  },
  {
   "cell_type": "markdown",
   "id": "b88f904e",
   "metadata": {},
   "source": [
    "### b) Objective and constraint"
   ]
  },
  {
   "cell_type": "code",
   "execution_count": null,
   "id": "6f9b5a65-968e-4524-aa1f-151dead719c6",
   "metadata": {},
   "outputs": [
    {
     "data": {
      "image/png": "[encoded data removed]",
      "text/plain": [
       "<Figure size 640x480 with 2 Axes>"
      ]
     },
     "metadata": {},
     "output_type": "display_data"
    }
   ],
   "source": [
    "import matplotlib.pyplot as plt \n",
    "\n",
    "fig, ax1 = plt.subplots(); color = 'tab:blue'\n",
    "ax1.plot(test.bestObj, color = color)\n",
    "ax1.tick_params(axis='y', labelcolor=color)\n",
    "ax1.set_xlabel('Generation'); ax1.set_ylabel(\"Objective\", color = color)\n",
    "\n",
    "ax2 = ax1.twinx()\n",
    "color = 'tab:red'\n",
    "ax2.set_ylabel(\"Constraint\", color=color)\n",
    "ax2.plot(test.bestConst, color=color)\n",
    "ax2.tick_params(axis='y', labelcolor=color)\n",
    "fig.tight_layout()\n",
    "plt.show()"
   ]
  }
 ],
 "metadata": {
  "kernelspec": {
   "display_name": "ngsolve-env",
   "language": "python",
   "name": "python3"
  },
  "language_info": {
   "codemirror_mode": {
    "name": "ipython",
    "version": 3
   },
   "file_extension": ".py",
   "mimetype": "text/x-python",
   "name": "python",
   "nbconvert_exporter": "python",
   "pygments_lexer": "ipython3",
   "version": "3.13.1"
  }
 },
 "nbformat": 4,
 "nbformat_minor": 5
}
